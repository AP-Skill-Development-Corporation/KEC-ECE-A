{
 "cells": [
  {
   "cell_type": "markdown",
   "id": "4d66a8a2",
   "metadata": {},
   "source": [
    "## Input formatting:\n",
    "    - By default it stores string data type value\n",
    "    - It displays an info to a user\n",
    "    - It reads a value from a user\n",
    "    Syntax:\n",
    "        variablename = input(\"Something info\")"
   ]
  },
  {
   "cell_type": "code",
   "execution_count": 8,
   "id": "2246945c",
   "metadata": {},
   "outputs": [
    {
     "name": "stdout",
     "output_type": "stream",
     "text": [
      "Enter a value: 3+56j\n",
      "3+56j <class 'str'>\n"
     ]
    }
   ],
   "source": [
    "a = input(\"Enter a value: \")\n",
    "print(a,type(a))"
   ]
  },
  {
   "cell_type": "code",
   "execution_count": 2,
   "id": "4a7b072e",
   "metadata": {},
   "outputs": [],
   "source": [
    "b = 45"
   ]
  },
  {
   "cell_type": "code",
   "execution_count": 3,
   "id": "ee31ea0c",
   "metadata": {},
   "outputs": [
    {
     "data": {
      "text/plain": [
       "45"
      ]
     },
     "execution_count": 3,
     "metadata": {},
     "output_type": "execute_result"
    }
   ],
   "source": [
    "b"
   ]
  },
  {
   "cell_type": "markdown",
   "id": "98806f35",
   "metadata": {},
   "source": [
    "### Task:\n",
    "    Input:\n",
    "        Enter a value: ?\n",
    "        Enter b value: ?\n",
    "        Enter c value: ?\n",
    "    Output:\n",
    "        Entered a value is: ?\n",
    "        Entered b value is: ?\n",
    "        Entered c value is: ?"
   ]
  },
  {
   "cell_type": "code",
   "execution_count": 9,
   "id": "0302db6c",
   "metadata": {},
   "outputs": [
    {
     "name": "stdout",
     "output_type": "stream",
     "text": [
      "Enter a value: 12\n",
      "Enter b value: kiran\n",
      "Enter c value: 45.01554\n",
      "Entered a value is:  12\n",
      "Entered b value is:  kiran\n",
      "Entered c value is:  45.01554\n"
     ]
    }
   ],
   "source": [
    "a,b,c = input(\"Enter a value: \"),input(\"Enter b value: \"),input(\"Enter c value: \")\n",
    "print(\"Entered a value is: \",a)\n",
    "print(\"Entered b value is: \",b)\n",
    "print(\"Entered c value is: \",c)"
   ]
  },
  {
   "cell_type": "markdown",
   "id": "fc2487b5",
   "metadata": {},
   "source": [
    "## Output Formatting:\n",
    "    - , +\n",
    "    - format specifiers (%)\n",
    "    - .format\n",
    "    - f"
   ]
  },
  {
   "cell_type": "code",
   "execution_count": 16,
   "id": "34bfa96d",
   "metadata": {},
   "outputs": [
    {
     "name": "stdout",
     "output_type": "stream",
     "text": [
      "Enter n value: 6\n",
      "Enter m value: 5\n",
      "Addition of 6 and 5 is: 65\n",
      "Addition of 6 and 5 is: 65\n",
      "Addition of 6 and 5 is: 65\n",
      "Addition of 6 and 5 is: 65\n",
      "Addition of 5 and 6 is: 65\n",
      "Addition of 6 and 5 is: 65\n"
     ]
    }
   ],
   "source": [
    "n = input(\"Enter n value: \")\n",
    "m = input(\"Enter m value: \")\n",
    "print(\"Addition of\",n,\"and\",m,\"is:\",n+m)\n",
    "print(\"Addition of \"+n+\" and \"+m+\" is: \"+n+m)\n",
    "print(\"Addition of %s and %s is: %s\"%(n,m,n+m))\n",
    "print(\"Addition of {} and {} is: {}\".format(n,m,n+m))\n",
    "print(\"Addition of {1} and {0} is: {2}\".format(n,m,n+m))\n",
    "print(f\"Addition of {n} and {m} is: {n+m}\")"
   ]
  },
  {
   "cell_type": "markdown",
   "id": "acc54dd3",
   "metadata": {},
   "source": [
    "## Typecasting:\n",
    "    - To change the data type of one type to another type\n",
    "    - int()\n",
    "    - float()\n",
    "    - str()\n",
    "    - complex()\n",
    "    - All Data Structures[list(),tuple(),set() and dict()]"
   ]
  },
  {
   "cell_type": "code",
   "execution_count": null,
   "id": "a54f9a0a",
   "metadata": {},
   "outputs": [],
   "source": []
  }
 ],
 "metadata": {
  "kernelspec": {
   "display_name": "Python 3 (ipykernel)",
   "language": "python",
   "name": "python3"
  },
  "language_info": {
   "codemirror_mode": {
    "name": "ipython",
    "version": 3
   },
   "file_extension": ".py",
   "mimetype": "text/x-python",
   "name": "python",
   "nbconvert_exporter": "python",
   "pygments_lexer": "ipython3",
   "version": "3.9.13"
  }
 },
 "nbformat": 4,
 "nbformat_minor": 5
}
