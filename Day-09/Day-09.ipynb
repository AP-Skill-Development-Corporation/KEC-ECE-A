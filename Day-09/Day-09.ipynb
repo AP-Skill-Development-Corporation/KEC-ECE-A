{
 "cells": [
  {
   "cell_type": "markdown",
   "id": "8edff41b",
   "metadata": {},
   "source": [
    "## if-else\n",
    "    Syntax:\n",
    "        if condition:\n",
    "            //statements\n",
    "        else:\n",
    "            //statements\n",
    "        () => Optional"
   ]
  },
  {
   "cell_type": "markdown",
   "id": "1bd64b68",
   "metadata": {},
   "source": [
    "## Task:\n",
    "    Input:\n",
    "        Enter a number: ?\n",
    "    Output:\n",
    "        Entered number ? is Equal to ?\n",
    "        \n",
    "    Input:\n",
    "        Enter a number: ?\n",
    "    Output:\n",
    "        Entered number ? is not Equal to ?"
   ]
  },
  {
   "cell_type": "code",
   "execution_count": 2,
   "id": "bdb30515",
   "metadata": {},
   "outputs": [
    {
     "name": "stdout",
     "output_type": "stream",
     "text": [
      "Enter a number: 45\n",
      "Entered number 45 is not equal to 20\n"
     ]
    }
   ],
   "source": [
    "n = int(input(\"Enter a number: \"))\n",
    "if n==20:\n",
    "    print(f\"Entered number {n} is Equal to 20\")\n",
    "else:\n",
    "    print(f\"Entered number {n} is not equal to 20\")"
   ]
  },
  {
   "cell_type": "markdown",
   "id": "43c98eb7",
   "metadata": {},
   "source": [
    "## Task:\n",
    "    Even: 45a^2+4y\n",
    "    Odd: 34x^3+23y^2+2z"
   ]
  },
  {
   "cell_type": "code",
   "execution_count": 4,
   "id": "5f235eaa",
   "metadata": {},
   "outputs": [
    {
     "name": "stdout",
     "output_type": "stream",
     "text": [
      "Enter m number: 5\n",
      "Enter x value: 1\n",
      "Enter y value: 4\n",
      "Enter z value: 6\n",
      "Expression of 34x^3+23y^2+2z is: 414\n"
     ]
    }
   ],
   "source": [
    "m = int(input(\"Enter m number: \"))\n",
    "if m%2==0:\n",
    "    a = int(input(\"Enter a value: \"))\n",
    "    b = int(input(\"Enter b value: \"))\n",
    "    print(f\"Expression of 45a^2+4b is: {45*a**2+4*b}\")\n",
    "else:\n",
    "    x = int(input(\"Enter x value: \"))\n",
    "    y = int(input(\"Enter y value: \"))\n",
    "    z = int(input(\"Enter z value: \"))\n",
    "    print(f\"Expression of 34x^3+23y^2+2z is: {34*x**3+23*y**2+2*z}\")"
   ]
  },
  {
   "cell_type": "markdown",
   "id": "300fee36",
   "metadata": {},
   "source": [
    "## Nested if:\n",
    "    Syntax:\n",
    "        if condition-1:\n",
    "            if condition-2:\n",
    "                //statement-1\n",
    "            else:\n",
    "                //statement-2\n",
    "        else:\n",
    "            //statements-n\n",
    "        else => Optional"
   ]
  },
  {
   "cell_type": "code",
   "execution_count": 7,
   "id": "7ac9ca26",
   "metadata": {},
   "outputs": [
    {
     "name": "stdout",
     "output_type": "stream",
     "text": [
      "Enter Username: raju\n",
      "Enter Password: 123\n",
      "Welcome user raju\n"
     ]
    }
   ],
   "source": [
    "username = input(\"Enter Username: \")\n",
    "pwd = input(\"Enter Password: \")\n",
    "if username == \"raju\":\n",
    "    if pwd == \"123\":\n",
    "        print(f\"Welcome user {username}\")\n",
    "    else:\n",
    "        print(\"Invalid username/password\")\n",
    "else:\n",
    "    print(\"Invalid username/password\")"
   ]
  },
  {
   "cell_type": "code",
   "execution_count": 10,
   "id": "0f695844",
   "metadata": {},
   "outputs": [
    {
     "name": "stdout",
     "output_type": "stream",
     "text": [
      "Enter Mailid: sample@gmail.com\n",
      "Enter Password: 456\n",
      "Welcome User sample@gmail.com\n"
     ]
    }
   ],
   "source": [
    "em = input(\"Enter Mailid: \")\n",
    "if em == \"sample@gmail.com\":\n",
    "    pd = input(\"Enter Password: \")\n",
    "    if pd == \"456\":\n",
    "        print(f\"Welcome User {em}\")\n",
    "    else:\n",
    "        print(f\"Invalid Password\")\n",
    "else:\n",
    "    print(f\"Invalid email {em}\")"
   ]
  },
  {
   "cell_type": "code",
   "execution_count": null,
   "id": "d7c8a0c0",
   "metadata": {},
   "outputs": [],
   "source": []
  }
 ],
 "metadata": {
  "kernelspec": {
   "display_name": "Python 3 (ipykernel)",
   "language": "python",
   "name": "python3"
  },
  "language_info": {
   "codemirror_mode": {
    "name": "ipython",
    "version": 3
   },
   "file_extension": ".py",
   "mimetype": "text/x-python",
   "name": "python",
   "nbconvert_exporter": "python",
   "pygments_lexer": "ipython3",
   "version": "3.9.13"
  }
 },
 "nbformat": 4,
 "nbformat_minor": 5
}
