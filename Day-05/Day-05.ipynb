{
 "cells": [
  {
   "cell_type": "markdown",
   "id": "102d9982",
   "metadata": {},
   "source": [
    "# Heading\n",
    "###### Sample Example\n",
    "####### Sample example"
   ]
  },
  {
   "cell_type": "markdown",
   "id": "9bc77432",
   "metadata": {},
   "source": [
    "## Styling Text\n",
    "\n",
    "#### Bold\n",
    "\n",
    "**Example for bold**\n",
    "__Another Example for bold__\n",
    "\n",
    "#### Italic\n",
    "\n",
    "*Example for italic*\n",
    "_Another Example for italic_\n",
    "\n",
    "#### Strike through\n",
    "\n",
    "~~Example for strikethough~~\n",
    "\n",
    "#### Bold and Nested Italic\n",
    "\n",
    "**Example for bold and *Nested* Italic**\n",
    "\n",
    "#### All bold an italic\n",
    "\n",
    "***Example for All bold and italic***"
   ]
  },
  {
   "cell_type": "markdown",
   "id": "792d7066",
   "metadata": {},
   "source": [
    "## Variable:\n",
    "    - To Store a value\n",
    "    - To change a value\n",
    "    Syntax:\n",
    "        variablename = value"
   ]
  },
  {
   "cell_type": "markdown",
   "id": "fc2bca11",
   "metadata": {},
   "source": [
    "## Variable Assignments\n",
    "    - single variable = single value\n",
    "    - n number of variables = n number of values\n",
    "    - n number of variables = single value\n",
    "    - single variable = n number of values"
   ]
  },
  {
   "cell_type": "code",
   "execution_count": 1,
   "id": "b1186211",
   "metadata": {},
   "outputs": [
    {
     "data": {
      "text/plain": [
       "45"
      ]
     },
     "execution_count": 1,
     "metadata": {},
     "output_type": "execute_result"
    }
   ],
   "source": [
    "# single variable = single value\n",
    "a = 45\n",
    "a"
   ]
  },
  {
   "cell_type": "code",
   "execution_count": 2,
   "id": "f6fff6a7",
   "metadata": {},
   "outputs": [
    {
     "data": {
      "text/plain": [
       "35.021"
      ]
     },
     "execution_count": 2,
     "metadata": {},
     "output_type": "execute_result"
    }
   ],
   "source": [
    "q = 12\n",
    "z = 35.021\n",
    "q\n",
    "z"
   ]
  },
  {
   "cell_type": "code",
   "execution_count": 3,
   "id": "febbe9af",
   "metadata": {},
   "outputs": [
    {
     "data": {
      "text/plain": [
       "12"
      ]
     },
     "execution_count": 3,
     "metadata": {},
     "output_type": "execute_result"
    }
   ],
   "source": [
    "z\n",
    "q"
   ]
  },
  {
   "cell_type": "code",
   "execution_count": 4,
   "id": "90ac70d1",
   "metadata": {},
   "outputs": [
    {
     "data": {
      "text/plain": [
       "(12, 35.021)"
      ]
     },
     "execution_count": 4,
     "metadata": {},
     "output_type": "execute_result"
    }
   ],
   "source": [
    "q,z"
   ]
  },
  {
   "cell_type": "code",
   "execution_count": 6,
   "id": "786adbad",
   "metadata": {},
   "outputs": [
    {
     "data": {
      "text/plain": [
       "(12, 8, 6, 9)"
      ]
     },
     "execution_count": 6,
     "metadata": {},
     "output_type": "execute_result"
    }
   ],
   "source": [
    "# n number of variables = n number of values\n",
    "a,b,c,d = 12,8,6,9\n",
    "a,b,c,d"
   ]
  },
  {
   "cell_type": "code",
   "execution_count": 7,
   "id": "e79656a8",
   "metadata": {},
   "outputs": [
    {
     "ename": "ValueError",
     "evalue": "not enough values to unpack (expected 4, got 3)",
     "output_type": "error",
     "traceback": [
      "\u001b[1;31m---------------------------------------------------------------------------\u001b[0m",
      "\u001b[1;31mValueError\u001b[0m                                Traceback (most recent call last)",
      "Cell \u001b[1;32mIn[7], line 1\u001b[0m\n\u001b[1;32m----> 1\u001b[0m p,q,e,k \u001b[38;5;241m=\u001b[39m \u001b[38;5;241m12\u001b[39m,\u001b[38;5;241m8\u001b[39m,\u001b[38;5;241m6\u001b[39m\n\u001b[0;32m      2\u001b[0m p,q,e,k\n",
      "\u001b[1;31mValueError\u001b[0m: not enough values to unpack (expected 4, got 3)"
     ]
    }
   ],
   "source": [
    "p,q,e,k = 12,8,6\n",
    "p,q,e,k"
   ]
  },
  {
   "cell_type": "code",
   "execution_count": 8,
   "id": "74054710",
   "metadata": {},
   "outputs": [
    {
     "ename": "ValueError",
     "evalue": "too many values to unpack (expected 3)",
     "output_type": "error",
     "traceback": [
      "\u001b[1;31m---------------------------------------------------------------------------\u001b[0m",
      "\u001b[1;31mValueError\u001b[0m                                Traceback (most recent call last)",
      "Cell \u001b[1;32mIn[8], line 1\u001b[0m\n\u001b[1;32m----> 1\u001b[0m a,k,j \u001b[38;5;241m=\u001b[39m \u001b[38;5;241m78\u001b[39m,\u001b[38;5;241m2\u001b[39m,\u001b[38;5;241m3\u001b[39m,\u001b[38;5;241m5\u001b[39m\n\u001b[0;32m      2\u001b[0m a,k,j\n",
      "\u001b[1;31mValueError\u001b[0m: too many values to unpack (expected 3)"
     ]
    }
   ],
   "source": [
    "a,k,j = 78,2,3,5\n",
    "a,k,j"
   ]
  },
  {
   "cell_type": "code",
   "execution_count": 9,
   "id": "e060fb17",
   "metadata": {},
   "outputs": [
    {
     "data": {
      "text/plain": [
       "(450, 450, 450)"
      ]
     },
     "execution_count": 9,
     "metadata": {},
     "output_type": "execute_result"
    }
   ],
   "source": [
    "# n number of variables = single value\n",
    "q = w = c = 450\n",
    "q,w,c"
   ]
  },
  {
   "cell_type": "code",
   "execution_count": 10,
   "id": "789ecbae",
   "metadata": {},
   "outputs": [
    {
     "data": {
      "text/plain": [
       "(1890282221008, 1890282221008, 1890282221008)"
      ]
     },
     "execution_count": 10,
     "metadata": {},
     "output_type": "execute_result"
    }
   ],
   "source": [
    "id(q),id(w),id(c)"
   ]
  },
  {
   "cell_type": "code",
   "execution_count": 11,
   "id": "eb711d75",
   "metadata": {},
   "outputs": [
    {
     "data": {
      "text/plain": [
       "(12, 56.02124, 'Lokesh')"
      ]
     },
     "execution_count": 11,
     "metadata": {},
     "output_type": "execute_result"
    }
   ],
   "source": [
    "# single variable = n number of values\n",
    "b = 12,56.02124,'Lokesh'\n",
    "b"
   ]
  },
  {
   "cell_type": "markdown",
   "id": "45b5c097",
   "metadata": {},
   "source": [
    "## Operators:\n",
    "    - Arithmetic\n",
    "    - Logical\n",
    "    - Assignment\n",
    "    - Bitwise\n",
    "    - Membership\n",
    "    - Identity\n",
    "    - Relational"
   ]
  },
  {
   "cell_type": "code",
   "execution_count": null,
   "id": "661522f2",
   "metadata": {},
   "outputs": [],
   "source": []
  }
 ],
 "metadata": {
  "kernelspec": {
   "display_name": "Python 3 (ipykernel)",
   "language": "python",
   "name": "python3"
  },
  "language_info": {
   "codemirror_mode": {
    "name": "ipython",
    "version": 3
   },
   "file_extension": ".py",
   "mimetype": "text/x-python",
   "name": "python",
   "nbconvert_exporter": "python",
   "pygments_lexer": "ipython3",
   "version": "3.9.13"
  }
 },
 "nbformat": 4,
 "nbformat_minor": 5
}
