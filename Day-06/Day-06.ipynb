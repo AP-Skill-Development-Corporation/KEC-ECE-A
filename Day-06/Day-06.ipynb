{
 "cells": [
  {
   "cell_type": "markdown",
   "id": "ca0445f0",
   "metadata": {},
   "source": [
    "## Operators:\n",
    "    - Arithmetic => +,-,*,/,%,//,** => Expressions\n",
    "    - Assignment => +=,-=,*=,/=,//=,**= => Expression,Conditional,loops,loop within conditional\n",
    "    - Bitwise => &,|,!,^,>>,<< => Value comparision => Values to be printed\n",
    "    - Logical => AND,OR,NOT => between n conditions => True or False\n",
    "    - Membership => in,not in => Checking an item is present in a data structure or not, loops => for\n",
    "    - Identity => is,is not => Memory allocations or value comparision of a string data type\n",
    "    - Relational => ==,!=,>=,<=,<,> => Conditional"
   ]
  },
  {
   "cell_type": "markdown",
   "id": "6a7e4cba",
   "metadata": {},
   "source": [
    "## Keywords or Reserved Words"
   ]
  },
  {
   "cell_type": "code",
   "execution_count": 1,
   "id": "3cbdc342",
   "metadata": {},
   "outputs": [],
   "source": [
    "import keyword"
   ]
  },
  {
   "cell_type": "code",
   "execution_count": 2,
   "id": "ab00a46c",
   "metadata": {},
   "outputs": [
    {
     "name": "stdout",
     "output_type": "stream",
     "text": [
      "['__all__', '__builtins__', '__cached__', '__doc__', '__file__', '__loader__', '__name__', '__package__', '__spec__', 'iskeyword', 'issoftkeyword', 'kwlist', 'softkwlist']\n"
     ]
    }
   ],
   "source": [
    "print(dir(keyword))"
   ]
  },
  {
   "cell_type": "code",
   "execution_count": 3,
   "id": "3be0a7d3",
   "metadata": {},
   "outputs": [
    {
     "name": "stdout",
     "output_type": "stream",
     "text": [
      "['False', 'None', 'True', '__peg_parser__', 'and', 'as', 'assert', 'async', 'await', 'break', 'class', 'continue', 'def', 'del', 'elif', 'else', 'except', 'finally', 'for', 'from', 'global', 'if', 'import', 'in', 'is', 'lambda', 'nonlocal', 'not', 'or', 'pass', 'raise', 'return', 'try', 'while', 'with', 'yield']\n"
     ]
    }
   ],
   "source": [
    "print(keyword.kwlist)"
   ]
  },
  {
   "cell_type": "code",
   "execution_count": 4,
   "id": "2398d465",
   "metadata": {},
   "outputs": [
    {
     "name": "stdout",
     "output_type": "stream",
     "text": [
      "36\n"
     ]
    }
   ],
   "source": [
    "print(len(keyword.kwlist))"
   ]
  },
  {
   "cell_type": "code",
   "execution_count": 5,
   "id": "0b6d82f1",
   "metadata": {},
   "outputs": [
    {
     "data": {
      "text/plain": [
       "45"
      ]
     },
     "execution_count": 5,
     "metadata": {},
     "output_type": "execute_result"
    }
   ],
   "source": [
    "k = 45\n",
    "k"
   ]
  },
  {
   "cell_type": "code",
   "execution_count": 6,
   "id": "ace58e27",
   "metadata": {},
   "outputs": [
    {
     "name": "stdout",
     "output_type": "stream",
     "text": [
      "12\n"
     ]
    },
    {
     "data": {
      "text/plain": [
       "'12'"
      ]
     },
     "execution_count": 6,
     "metadata": {},
     "output_type": "execute_result"
    }
   ],
   "source": [
    "w = '12'\n",
    "print(w)\n",
    "w"
   ]
  },
  {
   "cell_type": "markdown",
   "id": "2b0a8f1e",
   "metadata": {},
   "source": [
    "## Data Types:\n",
    "    - int => only whole numbers\n",
    "    - float => both numbers and decimal values  \n",
    "    - string => enclosed with ' or \"\n",
    "    - boolean => Either True or False\n",
    "    - complex => real and imaginary part\n",
    "    - none => none\n",
    "    - All data structures Like [List,Tuple,Set and Dictionary]"
   ]
  },
  {
   "cell_type": "code",
   "execution_count": 7,
   "id": "d0d5809a",
   "metadata": {},
   "outputs": [
    {
     "name": "stdout",
     "output_type": "stream",
     "text": [
      "12 23.012 Rajesh False (4+6j) None 45\n"
     ]
    }
   ],
   "source": [
    "a,b,c,d,e,f,g = 12,23.012,'Rajesh',False,4+6j,None,'45'\n",
    "print(a,b,c,d,e,f,g)"
   ]
  },
  {
   "cell_type": "markdown",
   "id": "510a93c6",
   "metadata": {},
   "source": [
    "## Type:\n",
    "    - To know the data type of a value\n",
    "    Syntax:\n",
    "        type(vairablename)"
   ]
  },
  {
   "cell_type": "code",
   "execution_count": 8,
   "id": "4d313395",
   "metadata": {},
   "outputs": [
    {
     "name": "stdout",
     "output_type": "stream",
     "text": [
      "12 <class 'int'>\n",
      "23.012 <class 'float'>\n",
      "Rajesh <class 'str'>\n",
      "False <class 'bool'>\n",
      "(4+6j) <class 'complex'>\n",
      "None <class 'NoneType'>\n",
      "45 <class 'str'>\n"
     ]
    }
   ],
   "source": [
    "a,b,c,d,e,f,g = 12,23.012,'Rajesh',False,4+6j,None,'45'\n",
    "print(a,type(a))\n",
    "print(b,type(b))\n",
    "print(c,type(c))\n",
    "print(d,type(d))\n",
    "print(e,type(e))\n",
    "print(f,type(f))\n",
    "print(g,type(g))"
   ]
  },
  {
   "cell_type": "code",
   "execution_count": 10,
   "id": "f3808190",
   "metadata": {},
   "outputs": [
    {
     "name": "stdout",
     "output_type": "stream",
     "text": [
      "<class 'str'>\n"
     ]
    },
    {
     "data": {
      "text/plain": [
       "str"
      ]
     },
     "execution_count": 10,
     "metadata": {},
     "output_type": "execute_result"
    }
   ],
   "source": [
    "w = '89'\n",
    "print(type(w))\n",
    "type(w)"
   ]
  },
  {
   "cell_type": "markdown",
   "id": "2e158d20",
   "metadata": {},
   "source": [
    "## Task\n",
    "    Input:\n",
    "         a = 45\n",
    "         b = 2\n",
    "    Output:\n",
    "        Addition of 45 and 2 is: 47"
   ]
  },
  {
   "cell_type": "code",
   "execution_count": 11,
   "id": "0d69d8df",
   "metadata": {},
   "outputs": [
    {
     "name": "stdout",
     "output_type": "stream",
     "text": [
      "Addition of 45 and 2 is:  47\n"
     ]
    }
   ],
   "source": [
    "a = 45\n",
    "b = 2\n",
    "print(\"Addition of\",a,\"and\",b,\"is: \",a+b)"
   ]
  },
  {
   "cell_type": "code",
   "execution_count": null,
   "id": "e812d060",
   "metadata": {},
   "outputs": [],
   "source": []
  }
 ],
 "metadata": {
  "kernelspec": {
   "display_name": "Python 3 (ipykernel)",
   "language": "python",
   "name": "python3"
  },
  "language_info": {
   "codemirror_mode": {
    "name": "ipython",
    "version": 3
   },
   "file_extension": ".py",
   "mimetype": "text/x-python",
   "name": "python",
   "nbconvert_exporter": "python",
   "pygments_lexer": "ipython3",
   "version": "3.9.13"
  }
 },
 "nbformat": 4,
 "nbformat_minor": 5
}
