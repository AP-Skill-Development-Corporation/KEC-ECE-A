{
 "cells": [
  {
   "cell_type": "code",
   "execution_count": 1,
   "id": "09a3ba12",
   "metadata": {},
   "outputs": [
    {
     "name": "stdout",
     "output_type": "stream",
     "text": [
      "Enter a number: 45\n",
      "45 <class 'str'>\n",
      "45 <class 'int'>\n",
      "45 <class 'str'>\n"
     ]
    }
   ],
   "source": [
    "a = input(\"Enter a number: \")\n",
    "print(a,type(a))\n",
    "print(int(a),type(int(a)))\n",
    "print(a,type(a))"
   ]
  },
  {
   "cell_type": "code",
   "execution_count": 3,
   "id": "38d7e254",
   "metadata": {},
   "outputs": [
    {
     "name": "stdout",
     "output_type": "stream",
     "text": [
      "Enter a number: 15\n",
      "15 <class 'int'>\n"
     ]
    }
   ],
   "source": [
    "w = int(input(\"Enter a number: \"))\n",
    "print(w,type(w))"
   ]
  },
  {
   "cell_type": "markdown",
   "id": "6e1b9585",
   "metadata": {},
   "source": [
    "### Task:\n",
    "    Input:\n",
    "        Enter a value: ?\n",
    "        Enter b value: ?\n",
    "    Output:\n",
    "        Entered a value is: ?\n",
    "        Entered b value is: ?\n",
    "        Values of a = '?' and b = '?'\n",
    "        Value of a = '?.00' and b = ?"
   ]
  },
  {
   "cell_type": "code",
   "execution_count": 7,
   "id": "054b956d",
   "metadata": {},
   "outputs": [
    {
     "name": "stdout",
     "output_type": "stream",
     "text": [
      "Enter a value: 5\n",
      "Enter b value: 89\n",
      "Entered a value is: 5\n",
      "Entered b value is: 89\n",
      "Values of a = '5' and b = '89'\n",
      "Values of a = '5.00' and b = 89\n"
     ]
    }
   ],
   "source": [
    "n = int(input(\"Enter a value: \"))\n",
    "m = int(input(\"Enter b value: \"))\n",
    "print(\"Entered a value is: {}\".format(n))\n",
    "print(\"Entered b value is: {}\".format(m))\n",
    "print(\"Values of a = '{}' and b = '{}'\".format(n,m))\n",
    "print(\"Values of a = '{:.02f}' and b = {}\".format(n,m))"
   ]
  },
  {
   "cell_type": "code",
   "execution_count": 9,
   "id": "8fce505d",
   "metadata": {},
   "outputs": [
    {
     "name": "stdout",
     "output_type": "stream",
     "text": [
      "135\n",
      "4\n",
      "20\n",
      "4\n"
     ]
    }
   ],
   "source": [
    "a = 20\n",
    "b = 135\n",
    "print(a and b)\n",
    "print(a & b)\n",
    "print(b and a)\n",
    "print(b & a)"
   ]
  },
  {
   "cell_type": "code",
   "execution_count": 10,
   "id": "7161e505",
   "metadata": {},
   "outputs": [
    {
     "name": "stdout",
     "output_type": "stream",
     "text": [
      "20\n",
      "151\n",
      "135\n",
      "151\n"
     ]
    }
   ],
   "source": [
    "print(a or b)\n",
    "print(a | b)\n",
    "print(b or a)\n",
    "print(b | a)"
   ]
  },
  {
   "cell_type": "markdown",
   "id": "4244ec77",
   "metadata": {},
   "source": [
    "## Task:\n",
    "    Expression: 4x^3+5y^2\n",
    "    \n",
    "    Output:\n",
    "        Expression of 4x^3+5y^2 is: ?"
   ]
  },
  {
   "cell_type": "code",
   "execution_count": 11,
   "id": "6e6c5387",
   "metadata": {},
   "outputs": [
    {
     "name": "stdout",
     "output_type": "stream",
     "text": [
      "4\n",
      "5\n",
      "Expression of 4x^3+5y^2 is:381\n"
     ]
    }
   ],
   "source": [
    "a = int(input())\n",
    "b = int(input())\n",
    "print(f\"Expression of 4x^3+5y^2 is:{4*a**3+5*b**2}\")"
   ]
  },
  {
   "cell_type": "markdown",
   "id": "8bf34772",
   "metadata": {},
   "source": [
    "## Conditional Statements:\n",
    "    - To Check whether given condition is either True or False\n",
    "    - if => 1 case\n",
    "    - if-else => 2 cases\n",
    "    - nested if => 2 or more cases\n",
    "    - elif => 3 or more n number of cases"
   ]
  },
  {
   "cell_type": "markdown",
   "id": "970c99b1",
   "metadata": {},
   "source": [
    "## if\n",
    "    Syntax:\n",
    "        if condition:\n",
    "            //statements\n",
    "        () => Optional"
   ]
  },
  {
   "cell_type": "code",
   "execution_count": 13,
   "id": "ef9c5088",
   "metadata": {},
   "outputs": [
    {
     "name": "stdout",
     "output_type": "stream",
     "text": [
      "Enter a number: 20\n",
      "Entered number 20 is Even\n"
     ]
    }
   ],
   "source": [
    "n = int(input(\"Enter a number: \"))\n",
    "if n%2==0:\n",
    "    print(f\"Entered number {n} is Even\")"
   ]
  },
  {
   "cell_type": "code",
   "execution_count": null,
   "id": "a57f60f1",
   "metadata": {},
   "outputs": [],
   "source": []
  }
 ],
 "metadata": {
  "kernelspec": {
   "display_name": "Python 3 (ipykernel)",
   "language": "python",
   "name": "python3"
  },
  "language_info": {
   "codemirror_mode": {
    "name": "ipython",
    "version": 3
   },
   "file_extension": ".py",
   "mimetype": "text/x-python",
   "name": "python",
   "nbconvert_exporter": "python",
   "pygments_lexer": "ipython3",
   "version": "3.9.13"
  }
 },
 "nbformat": 4,
 "nbformat_minor": 5
}
